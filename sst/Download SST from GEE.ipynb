{
 "cells": [
  {
   "cell_type": "markdown",
   "metadata": {},
   "source": [
    "# Download SST from Google Earth Engine\n",
    "#### Load libraries, initialize EE connection"
   ]
  },
  {
   "cell_type": "code",
   "execution_count": 1,
   "metadata": {},
   "outputs": [],
   "source": [
    "import ee\n",
    "import geemap\n",
    "import eeconvert\n",
    "import pandas as pd\n",
    "import geopandas as gpd\n",
    "import numpy as np\n",
    "ee.Initialize()"
   ]
  },
  {
   "cell_type": "markdown",
   "metadata": {},
   "source": [
    "#### Define parameters for data "
   ]
  },
  {
   "cell_type": "code",
   "execution_count": 2,
   "metadata": {},
   "outputs": [],
   "source": [
    "# temporal range\n",
    "start_year = 1999\n",
    "end_year = 2019\n",
    "\n",
    "# spatial extent to define region of interest\n",
    "xmin = 120\n",
    "xmax = 290\n",
    "ymin = -30\n",
    "ymax = 30\n",
    "\n",
    "# desired resolution for sampling raster (in meters)\n",
    "res_sampling = 10000\n",
    "\n",
    "# desired resolution for point grid (in degrees)\n",
    "res_grid = 2\n",
    "\n",
    "# path to save output\n",
    "file_path = '/Users/rebeccawillison/Documents/research/sst/sst_output.csv'"
   ]
  },
  {
   "cell_type": "markdown",
   "metadata": {},
   "source": [
    "#### Create map and visualization palette"
   ]
  },
  {
   "cell_type": "code",
   "execution_count": 3,
   "metadata": {},
   "outputs": [],
   "source": [
    "ee_ROI = ee.Geometry.Rectangle([xmin, ymin, xmax, ymax], geodesic = False, proj = 'EPSG:4326')\n",
    "visParams = {\n",
    "  'min': -300,\n",
    "  'max': 300,\n",
    "  'palette': [\n",
    "    '040274', '040281', '0502a3', '0502b8', '0502ce', '0502e6',\n",
    "    '0602ff', '235cb1', '307ef3', '269db1', '30c8e2', '32d3ef',\n",
    "    '3be285', '3ff38f', '86e26f', '3ae237', 'b5e22e', 'd6e21f',\n",
    "    'fff705', 'ffd611', 'ffb613', 'ff8b13', 'ff6e08', 'ff500d',\n",
    "    'ff0000', 'de0101', 'c21301', 'a71001', '911003'\n",
    "  ],\n",
    "};\n",
    "Map = geemap.Map()\n",
    "Map.centerObject(ee_ROI, 3)"
   ]
  },
  {
   "cell_type": "markdown",
   "metadata": {},
   "source": [
    "#### Define some functions "
   ]
  },
  {
   "cell_type": "code",
   "execution_count": 4,
   "metadata": {},
   "outputs": [],
   "source": [
    "def clipToROI(image):\n",
    "    return image.clip(ee_ROI)\n",
    "\n",
    "def summarizeByMonth(y):\n",
    "    def monthlyMean(m):\n",
    "        return sst_daily.filter(ee.Filter.calendarRange(y, y, 'year')) \\\n",
    "                     .filter(ee.Filter.calendarRange(m, m, 'month')) \\\n",
    "                     .mean().set('month', m).set('year', y)\n",
    "    return months.map(monthlyMean)"
   ]
  },
  {
   "cell_type": "markdown",
   "metadata": {},
   "source": [
    "#### Get data!"
   ]
  },
  {
   "cell_type": "code",
   "execution_count": 5,
   "metadata": {},
   "outputs": [],
   "source": [
    "months = ee.List.sequence(1, 12)\n",
    "years = ee.List.sequence(start_year, end_year)\n",
    "\n",
    "sst_daily = ee.ImageCollection('NOAA/CDR/OISST/V2_1') \\\n",
    "           .filter(ee.Filter.date(str(start_year)+'-01-01', str(end_year+1)+'-01-01')) \\\n",
    "           .select('anom') \\\n",
    "           .filterBounds(ee_ROI) \\\n",
    "           .map(clipToROI)\n",
    "\n",
    "sst = ee.ImageCollection.fromImages(years.map(summarizeByMonth).flatten())"
   ]
  },
  {
   "cell_type": "markdown",
   "metadata": {},
   "source": [
    "Check the first image to make things look reasonable:"
   ]
  },
  {
   "cell_type": "code",
   "execution_count": 6,
   "metadata": {},
   "outputs": [
    {
     "data": {
      "application/vnd.jupyter.widget-view+json": {
       "model_id": "e3baa60c7e064209b4453ba95ee95cdc",
       "version_major": 2,
       "version_minor": 0
      },
      "text/plain": [
       "Map(center=[4.0012477311426906e-14, -155.00000000000009], controls=(WidgetControl(options=['position'], widget…"
      ]
     },
     "metadata": {},
     "output_type": "display_data"
    }
   ],
   "source": [
    "Map.addLayer(sst.first(), visParams, 'First SST Monthly Anomaly')\n",
    "Map"
   ]
  },
  {
   "cell_type": "markdown",
   "metadata": {},
   "source": [
    "#### Create sampling grid"
   ]
  },
  {
   "cell_type": "code",
   "execution_count": 7,
   "metadata": {},
   "outputs": [],
   "source": [
    "x = pd.Series(np.arange(xmin, xmax+1, res_grid)).rename('Longitude')\n",
    "x[x > 180] = -(360 - x[x > 180])\n",
    "y = pd.Series(np.arange(ymin, ymax+1, res_grid)).rename('Latitude')\n",
    "grid = pd.DataFrame(index = x, columns = y).unstack().reset_index()[['Longitude','Latitude']]\n",
    "gdf_grid = gpd.GeoDataFrame(grid, geometry = gpd.points_from_xy(grid.Longitude, grid.Latitude))\n",
    "ee_grid = eeconvert.gdfToFc(gdf_grid)"
   ]
  },
  {
   "cell_type": "markdown",
   "metadata": {},
   "source": [
    "#### Sample SST monthly anomolies at desired grid\n",
    "*Need to update to use list comprehension instead of for loop"
   ]
  },
  {
   "cell_type": "code",
   "execution_count": 8,
   "metadata": {},
   "outputs": [],
   "source": [
    "sst_grid = sst.toBands().sampleRegions(ee_grid, scale = res_sampling, properties = ['month', 'year'], geometries = True)\n",
    "output = sst_grid.getInfo()\n",
    "features = output['features']\n",
    "features_df = pd.DataFrame()\n",
    "for j in range(len(features)):\n",
    "    item = features[j]\n",
    "    props = item['properties']\n",
    "    geom = item['geometry']\n",
    "    coords = geom['coordinates']\n",
    "    tmp = pd.concat([pd.DataFrame.from_dict(props, orient = 'index').transpose(), \\\n",
    "                     pd.DataFrame(coords).transpose()], axis = 1)\n",
    "    features_df = features_df.append(tmp, ignore_index=True)"
   ]
  },
  {
   "cell_type": "markdown",
   "metadata": {},
   "source": [
    "#### Clean up dataframe and export:"
   ]
  },
  {
   "cell_type": "code",
   "execution_count": 9,
   "metadata": {},
   "outputs": [],
   "source": [
    "output = features_df.rename(columns = {0: 'lon', 1: 'lat'}).melt(id_vars = ['lon', 'lat'])\n",
    "output[['time_index', 'feature']] = output.variable.str.split('_', expand = True)\n",
    "output = output.drop('variable', axis = 1).astype({'time_index': 'int32'})"
   ]
  },
  {
   "cell_type": "code",
   "execution_count": 10,
   "metadata": {},
   "outputs": [],
   "source": [
    "times = output.time_index.unique()\n",
    "times.sort(axis = 0)\n",
    "month_labels = pd.date_range(str(start_year)+'-01-01',str(end_year)+'-12-31', \n",
    "              freq='MS').strftime(\"%Y-%m\").tolist()\n",
    "times_df = pd.DataFrame(times, columns = ['time_index'])\n",
    "times_df = pd.concat([times_df, pd.DataFrame(month_labels, columns = ['month_label'])], axis = 1)"
   ]
  },
  {
   "cell_type": "code",
   "execution_count": 11,
   "metadata": {},
   "outputs": [],
   "source": [
    "output = output.merge(times_df, on = 'time_index')\n",
    "output[['year', 'month']] = output.month_label.str.split('-', expand = True)\n",
    "output = output.drop(['time_index', 'feature', 'month_label'], axis = 1)"
   ]
  },
  {
   "cell_type": "code",
   "execution_count": 13,
   "metadata": {},
   "outputs": [
    {
     "data": {
      "text/html": [
       "<div>\n",
       "<style scoped>\n",
       "    .dataframe tbody tr th:only-of-type {\n",
       "        vertical-align: middle;\n",
       "    }\n",
       "\n",
       "    .dataframe tbody tr th {\n",
       "        vertical-align: top;\n",
       "    }\n",
       "\n",
       "    .dataframe thead th {\n",
       "        text-align: right;\n",
       "    }\n",
       "</style>\n",
       "<table border=\"1\" class=\"dataframe\">\n",
       "  <thead>\n",
       "    <tr style=\"text-align: right;\">\n",
       "      <th></th>\n",
       "      <th>lon</th>\n",
       "      <th>lat</th>\n",
       "      <th>value</th>\n",
       "      <th>year</th>\n",
       "      <th>month</th>\n",
       "    </tr>\n",
       "  </thead>\n",
       "  <tbody>\n",
       "    <tr>\n",
       "      <th>0</th>\n",
       "      <td>154.016155</td>\n",
       "      <td>-29.958815</td>\n",
       "      <td>94.741935</td>\n",
       "      <td>1999</td>\n",
       "      <td>01</td>\n",
       "    </tr>\n",
       "    <tr>\n",
       "      <th>1</th>\n",
       "      <td>155.992449</td>\n",
       "      <td>-29.958815</td>\n",
       "      <td>65.612903</td>\n",
       "      <td>1999</td>\n",
       "      <td>01</td>\n",
       "    </tr>\n",
       "    <tr>\n",
       "      <th>2</th>\n",
       "      <td>157.968743</td>\n",
       "      <td>-29.958815</td>\n",
       "      <td>36.903226</td>\n",
       "      <td>1999</td>\n",
       "      <td>01</td>\n",
       "    </tr>\n",
       "    <tr>\n",
       "      <th>3</th>\n",
       "      <td>160.034868</td>\n",
       "      <td>-29.958815</td>\n",
       "      <td>38.903226</td>\n",
       "      <td>1999</td>\n",
       "      <td>01</td>\n",
       "    </tr>\n",
       "    <tr>\n",
       "      <th>4</th>\n",
       "      <td>162.011161</td>\n",
       "      <td>-29.958815</td>\n",
       "      <td>6.129032</td>\n",
       "      <td>1999</td>\n",
       "      <td>01</td>\n",
       "    </tr>\n",
       "  </tbody>\n",
       "</table>\n",
       "</div>"
      ],
      "text/plain": [
       "          lon        lat      value  year month\n",
       "0  154.016155 -29.958815  94.741935  1999    01\n",
       "1  155.992449 -29.958815  65.612903  1999    01\n",
       "2  157.968743 -29.958815  36.903226  1999    01\n",
       "3  160.034868 -29.958815  38.903226  1999    01\n",
       "4  162.011161 -29.958815   6.129032  1999    01"
      ]
     },
     "execution_count": 13,
     "metadata": {},
     "output_type": "execute_result"
    }
   ],
   "source": [
    "output.head()"
   ]
  },
  {
   "cell_type": "code",
   "execution_count": 12,
   "metadata": {},
   "outputs": [],
   "source": [
    "output.to_csv(file_path, index = False)"
   ]
  },
  {
   "cell_type": "code",
   "execution_count": null,
   "metadata": {},
   "outputs": [],
   "source": []
  }
 ],
 "metadata": {
  "kernelspec": {
   "display_name": "Python 3",
   "language": "python",
   "name": "python3"
  },
  "language_info": {
   "codemirror_mode": {
    "name": "ipython",
    "version": 3
   },
   "file_extension": ".py",
   "mimetype": "text/x-python",
   "name": "python",
   "nbconvert_exporter": "python",
   "pygments_lexer": "ipython3",
   "version": "3.7.3"
  }
 },
 "nbformat": 4,
 "nbformat_minor": 4
}
