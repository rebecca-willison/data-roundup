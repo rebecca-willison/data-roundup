{
 "cells": [
  {
   "cell_type": "markdown",
   "metadata": {},
   "source": [
    "# Download SST from Google Earth Engine\n",
    "#### Load libraries, initialize EE connection"
   ]
  },
  {
   "cell_type": "code",
   "execution_count": 1,
   "metadata": {},
   "outputs": [],
   "source": [
    "import ee\n",
    "import geemap\n",
    "import eeconvert\n",
    "import pandas as pd\n",
    "import geopandas as gpd\n",
    "import numpy as np\n",
    "ee.Initialize()"
   ]
  },
  {
   "cell_type": "markdown",
   "metadata": {},
   "source": [
    "#### Define parameters for data "
   ]
  },
  {
   "cell_type": "code",
   "execution_count": 15,
   "metadata": {},
   "outputs": [],
   "source": [
    "# temporal range\n",
    "start_year = 1997\n",
    "end_year = 1998\n",
    "\n",
    "# spatial extent to define region of interest\n",
    "xmin = 120\n",
    "xmax = 290\n",
    "ymin = -30\n",
    "ymax = 30\n",
    "\n",
    "# desired resolution for sampling raster (in meters)\n",
    "res_sampling = 10000\n",
    "\n",
    "# desired resolution for point grid (in degrees)\n",
    "res_grid = 2\n",
    "\n",
    "# path to save output\n",
    "file_path = '/Users/rebeccawillison/Documents/research/sst/sst_output_1997.csv'"
   ]
  },
  {
   "cell_type": "markdown",
   "metadata": {},
   "source": [
    "#### Create map and visualization palette"
   ]
  },
  {
   "cell_type": "code",
   "execution_count": 16,
   "metadata": {},
   "outputs": [],
   "source": [
    "ee_ROI = ee.Geometry.Rectangle([xmin, ymin, xmax, ymax], geodesic = False, proj = 'EPSG:4326')\n",
    "visParams = {\n",
    "  'min': -300,\n",
    "  'max': 300,\n",
    "  'palette': [\n",
    "    '040274', '040281', '0502a3', '0502b8', '0502ce', '0502e6',\n",
    "    '0602ff', '235cb1', '307ef3', '269db1', '30c8e2', '32d3ef',\n",
    "    '3be285', '3ff38f', '86e26f', '3ae237', 'b5e22e', 'd6e21f',\n",
    "    'fff705', 'ffd611', 'ffb613', 'ff8b13', 'ff6e08', 'ff500d',\n",
    "    'ff0000', 'de0101', 'c21301', 'a71001', '911003'\n",
    "  ],\n",
    "};\n",
    "Map = geemap.Map()\n",
    "Map.centerObject(ee_ROI, 3)"
   ]
  },
  {
   "cell_type": "markdown",
   "metadata": {},
   "source": [
    "#### Define some functions "
   ]
  },
  {
   "cell_type": "code",
   "execution_count": 17,
   "metadata": {},
   "outputs": [],
   "source": [
    "def clipToROI(image):\n",
    "    return image.clip(ee_ROI)\n",
    "\n",
    "def summarizeByMonth(y):\n",
    "    def monthlyMean(m):\n",
    "        return sst_daily.filter(ee.Filter.calendarRange(y, y, 'year')) \\\n",
    "                     .filter(ee.Filter.calendarRange(m, m, 'month')) \\\n",
    "                     .mean().set('month', m).set('year', y)\n",
    "    return months.map(monthlyMean)"
   ]
  },
  {
   "cell_type": "markdown",
   "metadata": {},
   "source": [
    "#### Get data!"
   ]
  },
  {
   "cell_type": "code",
   "execution_count": 27,
   "metadata": {},
   "outputs": [],
   "source": [
    "months = ee.List.sequence(1, 12)\n",
    "years = ee.List.sequence(start_year, end_year)\n",
    "\n",
    "sst_daily = ee.ImageCollection('NOAA/CDR/OISST/V2_1') \\\n",
    "           .filter(ee.Filter.date(str(start_year)+'-01-01', str(end_year+1)+'-01-01')) \\\n",
    "           .select('anom') \\\n",
    "           .filterBounds(ee_ROI) \\\n",
    "           .map(clipToROI)\n",
    "\n",
    "sst = ee.ImageCollection.fromImages(years.map(summarizeByMonth).flatten())"
   ]
  },
  {
   "cell_type": "markdown",
   "metadata": {},
   "source": [
    "Check the first image to make things look reasonable:"
   ]
  },
  {
   "cell_type": "code",
   "execution_count": 28,
   "metadata": {},
   "outputs": [
    {
     "data": {
      "application/vnd.jupyter.widget-view+json": {
       "model_id": "08c797ed89da4b2fb7a8d3537f055bbd",
       "version_major": 2,
       "version_minor": 0
      },
      "text/plain": [
       "Map(bottom=1299.0, center=[4.0012477311426906e-14, -155.00000000000009], controls=(WidgetControl(options=['pos…"
      ]
     },
     "metadata": {},
     "output_type": "display_data"
    }
   ],
   "source": [
    "Map.addLayer(sst.first(), visParams, 'First SST Monthly Anomaly')\n",
    "Map"
   ]
  },
  {
   "cell_type": "markdown",
   "metadata": {},
   "source": [
    "#### Create sampling grid"
   ]
  },
  {
   "cell_type": "code",
   "execution_count": 20,
   "metadata": {},
   "outputs": [],
   "source": [
    "x = pd.Series(np.arange(xmin, xmax+1, res_grid)).rename('Longitude')\n",
    "x[x > 180] = -(360 - x[x > 180])\n",
    "y = pd.Series(np.arange(ymin, ymax+1, res_grid)).rename('Latitude')\n",
    "grid = pd.DataFrame(index = x, columns = y).unstack().reset_index()[['Longitude','Latitude']]\n",
    "gdf_grid = gpd.GeoDataFrame(grid, geometry = gpd.points_from_xy(grid.Longitude, grid.Latitude))\n",
    "ee_grid = eeconvert.gdfToFc(gdf_grid)"
   ]
  },
  {
   "cell_type": "markdown",
   "metadata": {},
   "source": [
    "#### Sample SST monthly anomolies at desired grid\n",
    "*Need to update to use list comprehension instead of for loop"
   ]
  },
  {
   "cell_type": "code",
   "execution_count": 21,
   "metadata": {},
   "outputs": [],
   "source": [
    "sst_grid = sst.toBands().sampleRegions(ee_grid, scale = res_sampling, properties = ['month', 'year'], geometries = True)\n",
    "output = sst_grid.getInfo()\n",
    "features = output['features']\n",
    "features_df = pd.DataFrame()\n",
    "for j in range(len(features)):\n",
    "    item = features[j]\n",
    "    props = item['properties']\n",
    "    geom = item['geometry']\n",
    "    coords = geom['coordinates']\n",
    "    tmp = pd.concat([pd.DataFrame.from_dict(props, orient = 'index').transpose(), \\\n",
    "                     pd.DataFrame(coords).transpose()], axis = 1)\n",
    "    features_df = features_df.append(tmp, ignore_index=True)"
   ]
  },
  {
   "cell_type": "markdown",
   "metadata": {},
   "source": [
    "#### Clean up dataframe and export:"
   ]
  },
  {
   "cell_type": "code",
   "execution_count": 22,
   "metadata": {},
   "outputs": [],
   "source": [
    "output = features_df.rename(columns = {0: 'lon', 1: 'lat'}).melt(id_vars = ['lon', 'lat'])\n",
    "output[['time_index', 'feature']] = output.variable.str.split('_', expand = True)\n",
    "output = output.drop('variable', axis = 1).astype({'time_index': 'int32'})"
   ]
  },
  {
   "cell_type": "code",
   "execution_count": 23,
   "metadata": {},
   "outputs": [],
   "source": [
    "times = output.time_index.unique()\n",
    "times.sort(axis = 0)\n",
    "month_labels = pd.date_range(str(start_year)+'-01-01',str(end_year)+'-12-31', \n",
    "              freq='MS').strftime(\"%Y-%m\").tolist()\n",
    "times_df = pd.DataFrame(times, columns = ['time_index'])\n",
    "times_df = pd.concat([times_df, pd.DataFrame(month_labels, columns = ['month_label'])], axis = 1)"
   ]
  },
  {
   "cell_type": "code",
   "execution_count": 24,
   "metadata": {},
   "outputs": [],
   "source": [
    "output = output.merge(times_df, on = 'time_index')\n",
    "output[['year', 'month']] = output.month_label.str.split('-', expand = True)\n",
    "output = output.drop(['time_index', 'feature', 'month_label'], axis = 1)"
   ]
  },
  {
   "cell_type": "code",
   "execution_count": 25,
   "metadata": {},
   "outputs": [
    {
     "data": {
      "text/html": [
       "<div>\n",
       "<style scoped>\n",
       "    .dataframe tbody tr th:only-of-type {\n",
       "        vertical-align: middle;\n",
       "    }\n",
       "\n",
       "    .dataframe tbody tr th {\n",
       "        vertical-align: top;\n",
       "    }\n",
       "\n",
       "    .dataframe thead th {\n",
       "        text-align: right;\n",
       "    }\n",
       "</style>\n",
       "<table border=\"1\" class=\"dataframe\">\n",
       "  <thead>\n",
       "    <tr style=\"text-align: right;\">\n",
       "      <th></th>\n",
       "      <th>lon</th>\n",
       "      <th>lat</th>\n",
       "      <th>value</th>\n",
       "      <th>year</th>\n",
       "      <th>month</th>\n",
       "    </tr>\n",
       "  </thead>\n",
       "  <tbody>\n",
       "    <tr>\n",
       "      <th>0</th>\n",
       "      <td>154.016155</td>\n",
       "      <td>-29.958815</td>\n",
       "      <td>-85.645161</td>\n",
       "      <td>1997</td>\n",
       "      <td>01</td>\n",
       "    </tr>\n",
       "    <tr>\n",
       "      <th>1</th>\n",
       "      <td>155.992449</td>\n",
       "      <td>-29.958815</td>\n",
       "      <td>-169.451613</td>\n",
       "      <td>1997</td>\n",
       "      <td>01</td>\n",
       "    </tr>\n",
       "    <tr>\n",
       "      <th>2</th>\n",
       "      <td>157.968743</td>\n",
       "      <td>-29.958815</td>\n",
       "      <td>-165.161290</td>\n",
       "      <td>1997</td>\n",
       "      <td>01</td>\n",
       "    </tr>\n",
       "    <tr>\n",
       "      <th>3</th>\n",
       "      <td>160.034868</td>\n",
       "      <td>-29.958815</td>\n",
       "      <td>-140.548387</td>\n",
       "      <td>1997</td>\n",
       "      <td>01</td>\n",
       "    </tr>\n",
       "    <tr>\n",
       "      <th>4</th>\n",
       "      <td>162.011161</td>\n",
       "      <td>-29.958815</td>\n",
       "      <td>-136.225806</td>\n",
       "      <td>1997</td>\n",
       "      <td>01</td>\n",
       "    </tr>\n",
       "  </tbody>\n",
       "</table>\n",
       "</div>"
      ],
      "text/plain": [
       "          lon        lat       value  year month\n",
       "0  154.016155 -29.958815  -85.645161  1997    01\n",
       "1  155.992449 -29.958815 -169.451613  1997    01\n",
       "2  157.968743 -29.958815 -165.161290  1997    01\n",
       "3  160.034868 -29.958815 -140.548387  1997    01\n",
       "4  162.011161 -29.958815 -136.225806  1997    01"
      ]
     },
     "execution_count": 25,
     "metadata": {},
     "output_type": "execute_result"
    }
   ],
   "source": [
    "output.head()"
   ]
  },
  {
   "cell_type": "code",
   "execution_count": 26,
   "metadata": {},
   "outputs": [],
   "source": [
    "output.to_csv(file_path, index = False)"
   ]
  },
  {
   "cell_type": "code",
   "execution_count": null,
   "metadata": {},
   "outputs": [],
   "source": []
  }
 ],
 "metadata": {
  "kernelspec": {
   "display_name": "Python 3",
   "language": "python",
   "name": "python3"
  },
  "language_info": {
   "codemirror_mode": {
    "name": "ipython",
    "version": 3
   },
   "file_extension": ".py",
   "mimetype": "text/x-python",
   "name": "python",
   "nbconvert_exporter": "python",
   "pygments_lexer": "ipython3",
   "version": "3.7.3"
  }
 },
 "nbformat": 4,
 "nbformat_minor": 4
}
